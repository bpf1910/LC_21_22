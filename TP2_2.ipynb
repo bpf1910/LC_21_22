{
  "nbformat": 4,
  "nbformat_minor": 0,
  "metadata": {
    "colab": {
      "provenance": []
    },
    "kernelspec": {
      "name": "python3",
      "display_name": "Python 3"
    },
    "language_info": {
      "name": "python"
    }
  },
  "cells": [
    {
      "cell_type": "markdown",
      "metadata": {
        "id": "rksmXTO2Lc_V"
      },
      "source": [
        "##**Trabalho Prático 2**\n",
        "\n",
        "##Bárbara Faria (A85774), Bruna Araújo (A84408) e Tiago Lima (A85126)"
      ]
    },
    {
      "cell_type": "markdown",
      "metadata": {
        "id": "vApPEAKrw2-b"
      },
      "source": [
        "##2. Circuitos Booleanos\n",
        "\n",
        "A resolução efetuada neste exercício não corresponde ao pedido no enunciado. Foi-nos difícil aplicar o que foi lecionado, mas tentamos dar o nosso melhor com as ferramentas disponíveis."
      ]
    },
    {
      "cell_type": "code",
      "metadata": {
        "id": "AEb35RwMxG0S"
      },
      "source": [
        "import networkx as nx"
      ],
      "execution_count": null,
      "outputs": []
    },
    {
      "cell_type": "code",
      "metadata": {
        "colab": {
          "base_uri": "https://localhost:8080/"
        },
        "id": "0ri8jP28LyIB",
        "outputId": "bb804e3d-9974-4aab-afe9-f11e5b1906d0"
      },
      "source": [
        "!pip install ortools"
      ],
      "execution_count": null,
      "outputs": [
        {
          "output_type": "stream",
          "name": "stdout",
          "text": [
            "Requirement already satisfied: ortools in /usr/local/lib/python3.7/dist-packages (9.1.9490)\n",
            "Requirement already satisfied: absl-py>=0.13 in /usr/local/lib/python3.7/dist-packages (from ortools) (1.0.0)\n",
            "Requirement already satisfied: protobuf>=3.18.0 in /usr/local/lib/python3.7/dist-packages (from ortools) (3.19.1)\n",
            "Requirement already satisfied: six in /usr/local/lib/python3.7/dist-packages (from absl-py>=0.13->ortools) (1.15.0)\n"
          ]
        }
      ]
    },
    {
      "cell_type": "markdown",
      "metadata": {
        "id": "qGyQYQG7xLcc"
      },
      "source": [
        "##Explicação do Exercício"
      ]
    },
    {
      "cell_type": "markdown",
      "metadata": {
        "id": "RaycCYQTxhRe"
      },
      "source": [
        "Tentamos resolver o circuito \"ao contrário\", isto é, começando no output final (que idealmente será 1) e acabando nos inputs iniciais."
      ]
    },
    {
      "cell_type": "code",
      "metadata": {
        "colab": {
          "base_uri": "https://localhost:8080/",
          "height": 319
        },
        "id": "53hvFLxOJQMJ",
        "outputId": "9c758e8e-03e2-4aa4-fb78-df99885fd079"
      },
      "source": [
        "#Iniciar um circuito orientado\n",
        "#Este grafo terá wires e gates\n",
        "circuit = nx.DiGraph()\n",
        "circuit.add_node(\"A\")\n",
        "circuit.add_node(\"B\")\n",
        "circuit.add_node(\"X\")\n",
        "circuit.add_node(\"Y\")\n",
        "circuit.add_node(\"Q\")\n",
        "circuit.add_node(\"f\",gate=\"AND\")\n",
        "circuit.add_node(\"g\",gate=\"NOR\")\n",
        "circuit.add_node(\"h\",gate=\"NOT\")\n",
        "circuit.add_edge(\"A\",\"h\")\n",
        "circuit.add_edge(\"A\",\"g\")\n",
        "circuit.add_edge(\"B\",\"g\")\n",
        "circuit.add_edge(\"h\",\"Y\")\n",
        "circuit.add_edge(\"Y\",\"f\")\n",
        "circuit.add_edge(\"g\",\"X\")\n",
        "circuit.add_edge(\"X\",\"f\")\n",
        "circuit.add_edge(\"f\",\"Q\")\n",
        "\n",
        "#nx.draw(circuit,with_labels=True,node_size=1000)\n",
        "def desenha(circ):\n",
        "  nx.draw(circ, with_labels = True, labels = {n: circ.nodes[n]['gate'] if 'gate' in circ.nodes[n] else n for n in circ}, \n",
        "          node_size = 1000, node_color = ['yellow' if 'gate' in circ.nodes[n] else 'red' for n in circ], pos = nx.planar_layout(circ))\n",
        "\n",
        "desenha(circuit)"
      ],
      "execution_count": null,
      "outputs": [
        {
          "output_type": "display_data",
          "data": {
            "image/png": "[encoded data removed]",
            "text/plain": [
              "<Figure size 432x288 with 1 Axes>"
            ]
          },
          "metadata": {}
        }
      ]
    },
    {
      "cell_type": "code",
      "metadata": {
        "colab": {
          "base_uri": "https://localhost:8080/"
        },
        "id": "kGfMgsJyeMHR",
        "outputId": "eb389e8a-ea48-49ba-dd8b-19d66093f9b7"
      },
      "source": [
        "from ortools.linear_solver import pywraplp\n",
        "\n",
        "circ_logic = pywraplp.Solver.CreateSolver('SCIP')\n",
        "\n",
        "#O gate AND recebe dois wires como input: o X e o Y\n",
        "x = {}\n",
        "for i in range(2):\n",
        "  x[i] = circ_logic.BoolVar('x[%i]' % (i))\n",
        "\n",
        "#Restrições do operador AND\n",
        "#Output desejado é 1\n",
        "for i in range(2):\n",
        "  circ_logic.Add(x[i] >= 1)\n",
        "circ_logic.Add(sum([x[i] for i in range(2)]) <= (1 + 2)-1)\n",
        "\n",
        "#Mais uma vez, o output desejado será 1\n",
        "#Vamos guardar os valores de X e Y, uma vez que estes são output de outros gates\n",
        "circ_logic.Minimize(1)\n",
        "status = circ_logic.Solve()\n",
        "if status == pywraplp.Solver.OPTIMAL:\n",
        "    print(\"Inputs do Gate AND:\")\n",
        "    X = round(x[0].solution_value())\n",
        "    print (\"X = \", round(x[0].solution_value()))\n",
        "    Y = round(x[1].solution_value())\n",
        "    print (\"Y = \", round(x[1].solution_value()))\n",
        "\n",
        "#O gate NOT recebe um wire como input: o A\n",
        "x = {}\n",
        "for i in range(1):\n",
        "  x[i] = circ_logic.BoolVar('x[%i]' % (i))\n",
        "\n",
        "#Restrições do operador NOT\n",
        "#Output desejado é 1 (Y = 1)\n",
        "circ_logic.Add(Y + x[0] == 1)\n",
        "\n",
        "#Mais uma vez, o output desejado será 1 (Y = 1)\n",
        "circ_logic.Minimize(Y)\n",
        "status = circ_logic.Solve()\n",
        "if status == pywraplp.Solver.OPTIMAL:\n",
        "    print(\"\\nInputs do Gate NOT:\")\n",
        "    print (\"A = \", round(x[0].solution_value()))\n",
        "\n",
        "#O gate NOR recebe dois wires como input: o A e o B\n",
        "x = {}\n",
        "for i in range(2):\n",
        "  x[i] = circ_logic.BoolVar('x[%i]' % (i))\n",
        "\n",
        "#Restrições do operador NOR\n",
        "#Output desejado é 1 (X = 1)\n",
        "for i in range(2):\n",
        "  circ_logic.Add(X + x[i] <= 1)\n",
        "circ_logic.Add(1 <= X + (sum([x[i] for i in range(2)])))\n",
        "\n",
        "#Mais uma vez, o output desejado será 1 (X = 1)\n",
        "circ_logic.Minimize(X)\n",
        "status = circ_logic.Solve()\n",
        "if status == pywraplp.Solver.OPTIMAL:\n",
        "    print(\"\\nInputs do Gate NOR:\")\n",
        "    A = round(x[0].solution_value())\n",
        "    print (\"A = \", round(x[0].solution_value()))\n",
        "    B = round(x[1].solution_value())\n",
        "    print (\"B = \", round(x[0].solution_value()))\n",
        "\n",
        "print(\"\\nInputs aceites pelo circuito são (por exemplo):\")\n",
        "print (\"A = \", A)\n",
        "print (\"B = \", B)"
      ],
      "execution_count": null,
      "outputs": [
        {
          "output_type": "stream",
          "name": "stdout",
          "text": [
            "Inputs do Gate AND:\n",
            "X =  1\n",
            "Y =  1\n",
            "\n",
            "Inputs do Gate NOT:\n",
            "A =  0\n",
            "\n",
            "Inputs do Gate NOR:\n",
            "A =  0\n",
            "B =  0\n",
            "\n",
            "Inputs aceites pelo circuito são (por exemplo):\n",
            "A =  0\n",
            "B =  0\n"
          ]
        }
      ]
    },
    {
      "cell_type": "code",
      "metadata": {
        "colab": {
          "base_uri": "https://localhost:8080/"
        },
        "id": "_191t4J6l91h",
        "outputId": "4e613816-fb3b-4f76-a5cf-f7191e3c788e"
      },
      "source": [
        "#Iniciar um circuito orientado\n",
        "#Este grafo terá wires e gates\n",
        "circuit2 = nx.DiGraph()\n",
        "circuit2.add_node(\"A\")\n",
        "circuit2.add_node(\"B\")\n",
        "circuit2.add_node(\"C\")\n",
        "circuit2.add_node(\"X\")\n",
        "circuit2.add_node(\"Q\")\n",
        "circuit2.add_node(\"f\",gate=\"NAND\")\n",
        "circuit2.add_node(\"g\",gate=\"OR\")\n",
        "circuit2.add_edge(\"A\",\"f\")\n",
        "circuit2.add_edge(\"B\",\"f\")\n",
        "circuit2.add_edge(\"f\",\"X\")\n",
        "circuit2.add_edge(\"X\",\"g\")\n",
        "circuit2.add_edge(\"C\",\"g\")\n",
        "circuit2.add_edge(\"g\",\"Q\")\n",
        "\n",
        "#nx.draw(circuit,with_labels=True,node_size=1000)\n",
        "def desenha(circ):\n",
        "  nx.draw(circ, with_labels = True, labels = {n: circ.nodes[n]['gate'] if 'gate' in circ.nodes[n] else n for n in circ}, \n",
        "          node_size = 1000, node_color = ['yellow' if 'gate' in circ.nodes[n] else 'red' for n in circ], pos = nx.planar_layout(circ))\n",
        "\n",
        "desenha(circuit2)"
      ],
      "execution_count": null,
      "outputs": [
        {
          "output_type": "display_data",
          "data": {
            "image/png": "[encoded data removed]",
            "text/plain": [
              "<Figure size 432x288 with 1 Axes>"
            ]
          },
          "metadata": {}
        }
      ]
    },
    {
      "cell_type": "code",
      "metadata": {
        "colab": {
          "base_uri": "https://localhost:8080/"
        },
        "id": "qWwUdsqEoXwk",
        "outputId": "ca01389b-6f78-4cb3-a652-95a85723e6a1"
      },
      "source": [
        "#O gate OR recebe dois wires como input: o C e o X\n",
        "x = {}\n",
        "for i in range(2):\n",
        "  x[i] = circ_logic.BoolVar('x[%i]' % (i))\n",
        "\n",
        "#Restrições do operador OR\n",
        "#Output desejado é 1\n",
        "for i in range(2):\n",
        "  circ_logic.Add(x[i] <= 1)\n",
        "circ_logic.Add(1 <= (sum([x[i] for i in range(2)])))\n",
        "\n",
        "#Mais uma vez, o output desejado será 1\n",
        "#Vamos guardar os valores de X, uma vez que este é output de outro gate\n",
        "circ_logic.Minimize(1)\n",
        "status = circ_logic.Solve()\n",
        "if status == pywraplp.Solver.OPTIMAL:\n",
        "    print(\"Inputs do Gate OR:\")\n",
        "    C = round(x[0].solution_value())\n",
        "    print (\"C = \", round(x[0].solution_value()))\n",
        "    X = round(x[1].solution_value())\n",
        "    print (\"X = \", round(x[1].solution_value()))\n",
        "\n",
        "#O gate NAND recebe dois wires como input: o A e o B\n",
        "x = {}\n",
        "for i in range(2):\n",
        "  x[i] = circ_logic.BoolVar('x[%i]' % (i))\n",
        "\n",
        "#Restrições do operador NAND\n",
        "#Output desejado é 0 (X = 0)\n",
        "for i in range(2):\n",
        "  circ_logic.Add((X + x[i]) >= 1)\n",
        "circ_logic.Add(X + (sum([x[i] for i in range(2)])) <= 2)\n",
        "\n",
        "#Mais uma vez, o output desejado será 0 (X = 0)\n",
        "circ_logic.Minimize(X)\n",
        "status = circ_logic.Solve()\n",
        "if status == pywraplp.Solver.OPTIMAL:\n",
        "    print(\"\\nInputs do Gate NAND:\")\n",
        "    A = round(x[0].solution_value())\n",
        "    print (\"A = \", round(x[0].solution_value()))\n",
        "    B = round(x[1].solution_value())\n",
        "    print (\"B = \", round(x[1].solution_value()))\n",
        "\n",
        "print(\"\\nInputs aceites pelo circuito são (por exemplo):\")\n",
        "print (\"A = \", A)\n",
        "print (\"B = \", B)\n",
        "print (\"C = \", C)"
      ],
      "execution_count": null,
      "outputs": [
        {
          "output_type": "stream",
          "name": "stdout",
          "text": [
            "Inputs do Gate OR:\n",
            "C =  1\n",
            "X =  0\n",
            "\n",
            "Inputs do Gate NAND:\n",
            "A =  1\n",
            "B =  1\n",
            "\n",
            "Inputs aceites pelo circuito são (por exemplo):\n",
            "A =  1\n",
            "B =  1\n",
            "C =  1\n"
          ]
        }
      ]
    }
  ]
}