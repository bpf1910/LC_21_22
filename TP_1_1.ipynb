{
  "nbformat": 4,
  "nbformat_minor": 0,
  "metadata": {
    "colab": {
      "provenance": []
    },
    "kernelspec": {
      "name": "python3",
      "display_name": "Python 3"
    },
    "language_info": {
      "name": "python"
    }
  },
  "cells": [
    {
      "cell_type": "markdown",
      "metadata": {
        "id": "OVGKIUZdXJM2"
      },
      "source": [
        "##**Trabalho Prático 1**\n",
        "## Bárbara  Faria (A85774) , Bruna Araújo (A84408) e Tiago Lima (A85126)"
      ]
    },
    {
      "cell_type": "markdown",
      "metadata": {
        "id": "L7yn-pm0X1tV"
      },
      "source": [
        "## 1.Horário Semanal \n",
        "\n",
        "> O propósito deste trabalho é a análise de problemas de alocação usando técnicas de SAT,  em lógica proposicional, e IP em lógica linear inteira.\n",
        "\n",
        "\n",
        "1. Pretende-se construir um horário semanal para o plano de reuniões de projeto de uma “StartUp” de acordo com as seguintes condições:\n",
        "\n",
        "    1. Cada reunião ocupa uma sala (enumeradas 1..S) durante um “slot” (tempo,dia).  Assume-se os dias enumerados 1..D e, em cada dia, os tempos enumerados 1..T.\n",
        "    2.  Cada reunião tem associado um projeto (enumerados 1..P) e um conjunto de participantes. Os diferentes colaboradores são enumerados 1..C.\n",
        "    3. Cada projeto tem associado um conjunto de colaboradores, dos quais um  é o líder. Cada projeto realiza um dado número de reuniões semanais. São “inputs” do problema o conjunto de colaboradores de cada projeto, o seu líder e o número de reuniões semanais.\n",
        "    4. O líder do projeto participa em todas as reuniões do seu projeto; os restantes colaboradores podem ou não participar consoante a sua disponibilidade, num mínimo (“quorum”) de  50\\% do total de colaboradores do projeto.  A disponibilidade de cada participante, incluindo o lider,  é um conjunto de “slots” (“inputs” do problema). "
      ]
    },
    {
      "cell_type": "code",
      "metadata": {
        "colab": {
          "base_uri": "https://localhost:8080/"
        },
        "id": "S14Ab7rX9mbd",
        "outputId": "141b95f1-058e-425e-81dd-81c42f6acd39"
      },
      "source": [
        "!pip install ortools"
      ],
      "execution_count": null,
      "outputs": [
        {
          "output_type": "stream",
          "name": "stdout",
          "text": [
            "Requirement already satisfied: ortools in /usr/local/lib/python3.7/dist-packages (9.1.9490)\n",
            "Requirement already satisfied: absl-py>=0.13 in /usr/local/lib/python3.7/dist-packages (from ortools) (0.15.0)\n",
            "Requirement already satisfied: protobuf>=3.18.0 in /usr/local/lib/python3.7/dist-packages (from ortools) (3.19.0)\n",
            "Requirement already satisfied: six in /usr/local/lib/python3.7/dist-packages (from absl-py>=0.13->ortools) (1.15.0)\n"
          ]
        }
      ]
    },
    {
      "cell_type": "markdown",
      "metadata": {
        "id": "UzyjO_M7ZM_O"
      },
      "source": [
        "### Análise do problema\n",
        "\n",
        "Existem $C$ colaboradores ,identificados por um índice $c \\in [0..C\\!-\\!1]$, que pertence a um determinado projeto $p \\in [0..P\\!-\\!1]$, , e podemos identificar cada sala disponível num dado dia, num certo tempo, por um triplo $(s,d,t)\\in[0..S\\!-\\!1]\\times[0..D\\!-\\!1]\\times[0..T\\!-\\!1]$.\n",
        "\n",
        "Vamos usar uma família $X_{c,p,s,d,t}$ de variáveis binárias (i.e., que assumem valores inteiros $\\{0,1\\}$), com a seguinte semântica\n",
        "\n",
        "$$X_{p,c,s,d,t} == 1  \\quad \\mbox{se e só se} \\quad \\mbox{a reunião do projeto $p$ com $c$ colaboradores está localizada na sala $s$ no dia $d$ no tempo $t$} $$\n",
        "\n",
        "Para facilitar a contagem do numero de reuniões vamos usar uma família $K_{p,s,d,t}$ de variáveis binárias, com a seguinte semântica\n",
        "\n",
        "$$K_{p,s,d,t} == 1  \\quad \\mbox{se e só se} \\quad \\mbox{A reunião do projeto $p$ está localizada na sala $s$ no dia $d$ no tempo $t$} $$\n",
        "\n",
        "\n",
        "Para representar os líderes de cada projeto uma família $Z_{c,p}$ de variáveis binárias, com a seguinte semântica\n",
        "\n",
        "$$Y_{p,c} == 1  \\quad \\mbox{se e só se} \\quad \\mbox{O projeto p contém c colaboradores} $$\n"
      ]
    },
    {
      "cell_type": "markdown",
      "metadata": {
        "id": "rmyf-guqbGux"
      },
      "source": [
        "Destaca-se ainda o seguinte:\n",
        "\n",
        "**Limitações:** (que impõem limites máximos à alocação)\n",
        "1. Cada sala tem alocada no maximo 1 projeto.\n",
        "2. Um colaborador não pode frequentar duas reuniões ao mesmo tempo.\n",
        "\n",
        "\n",
        "\n",
        "\n",
        "**Obrigações:** (que impõem limites mínimos à alocação)\n",
        "1. Cada projeto realiza um dado número de reuniões semanais, em que o minímo será uma e no máximo N.\n",
        "2. O líder tem de estar obrigatoriamente na reunião do projeto que lidera.\n",
        "3.Cada reunião tem de ter presentes pelo menos 50% dos colaboradores.\n",
        "\n",
        "\n",
        "\n",
        "\n"
      ]
    },
    {
      "cell_type": "markdown",
      "metadata": {
        "id": "nsiPBF-eGTzC"
      },
      "source": [
        "\n",
        "\n",
        "\n",
        "### Implementação\n",
        "\n",
        "Começamos por importar a biblioteca de programação linear do OR-Tools e criar uma instância do *solver*.\n",
        "\n",
        "\n",
        "Depois inicializamos o *solver* `horario` e definir os valores para as constantes $S$, $T$, $D$, $P$, $C$ e $N$."
      ]
    },
    {
      "cell_type": "code",
      "metadata": {
        "id": "YkvSlX9u1jAH"
      },
      "source": [
        "from ortools.linear_solver import pywraplp\n",
        "\n",
        "horario = pywraplp.Solver.CreateSolver('SCIP')\n",
        "\n",
        "S, P, D, T, C, N = 1, 2, 5, 6, 21, 4"
      ],
      "execution_count": null,
      "outputs": []
    },
    {
      "cell_type": "markdown",
      "metadata": {
        "id": "TIfeLUAMdmGl"
      },
      "source": [
        "Declaração das matrizes de alocação:"
      ]
    },
    {
      "cell_type": "code",
      "metadata": {
        "id": "UGuDqOPw25JY"
      },
      "source": [
        "x={}\n",
        "for p in range(P):\n",
        "  x[p] = {}\n",
        "  for c in range(C):\n",
        "    x[p][c] = {}\n",
        "    for s in range(S):\n",
        "     x[p][c][s] = {}\n",
        "     for d in range(D):\n",
        "      x[p][c][s][d] = {}\n",
        "      for t in range(T):\n",
        "        x[p][c][s][d][t]=horario.BoolVar('x[%i][%i][%i][%i][%i]' %(p,c,s,d,t))\n",
        "\n",
        "k={}\n",
        "for p in range(P):\n",
        "  k[p]={}\n",
        "  for s in range(S):\n",
        "    k[p][s]={}\n",
        "    for d in range(D):\n",
        "      k[p][s][d]={}\n",
        "      for t in range(T):\n",
        "        k[p][s][d][t]=horario.BoolVar('k[%i][%i][%i][%i]' %(p,s,d,t))\n",
        "\n",
        "y = {}\n",
        "for p in range(P):\n",
        "  y[p] = {}\n",
        "  for c in range(C):\n",
        "    y[p][c] = horario.BoolVar('y[%i][%i]' % (p,c))\n",
        "    \n",
        "                \n",
        "def X(p,c,s,d,t):\n",
        "    return x[p][c][s][d][t]\n",
        "\n",
        "def K(p,s,d,t):\n",
        "    return k[p][s][d][t]\n",
        "\n",
        "def Y(p,c):\n",
        "    return y[p][c]"
      ],
      "execution_count": null,
      "outputs": []
    },
    {
      "cell_type": "markdown",
      "metadata": {
        "id": "8FV9oPZDQWHJ"
      },
      "source": [
        "Passamos agora á modelação das restrições.\n",
        "\n",
        "#### Limitações:\n",
        "\n",
        "1.Cada slot tem alocada no máximo uma reunião.\n",
        "\n",
        "   Vamos percorrer todas as salas em todos os dias e tempos e calculamos o somatório de todos os projetos  e esse somatório tem de ser menor ou igual a 1 de modo a que cada sala tem 0 ou 1 projetos associados. Esta restrição é feita no K pois não temos de nos preocupar com os colaboradores.\n",
        "\n",
        "\n",
        "$$\\forall{s<S} \\cdot \\forall{d<D} \\cdot \\forall{t<T} \\cdot \\quad \\sum_{p<P} k_{p,s,d,t} \\leq 1$$"
      ]
    },
    {
      "cell_type": "code",
      "metadata": {
        "id": "GVBYbp_DR6Dc"
      },
      "source": [
        "for s in range(S):\n",
        " for d in range(D):\n",
        "  for t in range(T):\n",
        "      horario.Add(sum([K(p,s,d,t) for p in range(P)]) <= 1)"
      ],
      "execution_count": null,
      "outputs": []
    },
    {
      "cell_type": "markdown",
      "metadata": {
        "id": "pXKWdWckSRXj"
      },
      "source": [
        "2.Um colaborador não pode frequentar duas reuniões ao mesmo tempo.\n",
        "\n",
        "Vamos percorrer todos os colaboradores em todos os dias e todos os tempos e para cada combinação ($c$,$d$,$t$) calculamos o somatório de todos as salas e projetos (reuniões) e esse valor tem de ser igual ou inferior a 1, garantido assim que um colaborador num terminado dia num determinado tempo está no máximo em uma reunião.\n",
        "\n",
        "\n",
        "$$\\forall{c<C} \\cdot \\forall{d<D} \\cdot \\forall{t<T} \\cdot \\quad \\sum_{p<P, s<S} x_{p,c,s,d,t} \\leq 1$$"
      ]
    },
    {
      "cell_type": "code",
      "metadata": {
        "id": "v3PTt_hyU7Ih"
      },
      "source": [
        "for c in range(C):\n",
        "  for d in range(D):\n",
        "     for t in range(T):\n",
        "       horario.Add(sum([X(p,c,s,d,t) for p in range(P) for s in range(S)]) <= 1)"
      ],
      "execution_count": null,
      "outputs": []
    },
    {
      "cell_type": "markdown",
      "metadata": {
        "id": "lXVonuB_MlQt"
      },
      "source": [
        "\n",
        "#### Obrigações:\n",
        "\n",
        "1. Cada projeto realiza um dado número de reuniões semanais, em que o minímo será uma e no máximo N.\n",
        "\n",
        "  Percorremos cada projeto e para cada um calculamos o somatório de todas as salas, dias e tempos e esse valor tem de estar compreendido entre 1 e N.\n",
        "\n",
        "\n",
        "$$\\forall{p<P}  \\cdot \\quad 1 \\leq \\sum_{s<S d<D, t<T} k_{p,s,d,t} \\leq N$$"
      ]
    },
    {
      "cell_type": "code",
      "metadata": {
        "id": "9Ie6bL4nDRCt"
      },
      "source": [
        "for p in range(P):\n",
        "  horario.Add(sum([X(p,c,s,d,t) for s in range(S) for d in range(D) for t in range(T)]) <= N)\n",
        "  horario.Add(sum([X(p,c,s,d,t) for s in range(S) for d in range(D) for t in range(T)]) >= 1)"
      ],
      "execution_count": null,
      "outputs": []
    },
    {
      "cell_type": "markdown",
      "metadata": {
        "id": "RxgMPGQEM4Rv"
      },
      "source": [
        "2. Cada projeto tem de ter um lider.\n",
        "\n",
        "  Percorremos todos os projetos e a restrição é feita do Y , onde fazemos o somatório de todos os colaboradores e se este for maior ou igual que 1 é garantido que existe líder. \n",
        "\n",
        "  \n",
        "$$\\forall{p<P}  \\cdot \\quad \\sum_{c<C} y_{p,c} \\geq 1$$"
      ]
    },
    {
      "cell_type": "code",
      "metadata": {
        "id": "P5JDXtClHRLY"
      },
      "source": [
        "for p in range(P):\n",
        "     horario.Add(sum([Y(p,c) for c in range(C)]) >= 1)"
      ],
      "execution_count": null,
      "outputs": []
    },
    {
      "cell_type": "markdown",
      "metadata": {
        "id": "bE-pNGTDM8v7"
      },
      "source": [
        " 3. A capacidade minima em cada reuniao é de 50% dos colaboradores desse mesmo projeto.\n",
        "\n",
        " $$\\forall{p<P}  \\cdot \\forall{s<S} \\cdot \\forall{d<D} \\cdot \\forall{t<T} \\cdot\\quad \\sum_{c<C} x_{p,c,s,d,t}  \\geq C//2 $$"
      ]
    },
    {
      "cell_type": "code",
      "metadata": {
        "id": "z615Hk4xanYs"
      },
      "source": [
        "for p in range(P):\n",
        "  for s in range(S):\n",
        "    for d in range(D):\n",
        "      for t in range(T):\n",
        "        horario.Add((sum([X(p,c,s,d,t) for c in range(C)])) >= C//2)"
      ],
      "execution_count": null,
      "outputs": []
    },
    {
      "cell_type": "markdown",
      "metadata": {
        "id": "oBvp19Apx7aQ"
      },
      "source": [
        "###Exemplo de impressão de um horário\n",
        "\n"
      ]
    },
    {
      "cell_type": "code",
      "metadata": {
        "id": "-H4D3bjox9Dt",
        "colab": {
          "base_uri": "https://localhost:8080/"
        },
        "outputId": "66260eaf-a2fd-4800-8f4a-b89c171cc7cc"
      },
      "source": [
        "status=horario.Solve()\n",
        "if status==pywraplp.Solver.OPTIMAL:\n",
        "  #imprime horario de todas as reuniões\n",
        "  for p in range(P):\n",
        "    print(\"Projeto:\",p,\"\\n\")\n",
        "    for d in range(D):\n",
        "      for t in range(T):\n",
        "        for s in range(S):\n",
        "#         print(X(p,c,s,d,t).solution_value())\n",
        "          if round(X(p,c,s,d,t).solution_value())==1:\n",
        "            print(\"Dia\",d,\"-> Tempo\",t, \"->\",\"Sala:\",s,\"\\n\")\n",
        "    print(\"Colaboradores:\")\n",
        "    for c in range(C):\n",
        "      if round(X(p,c,s,d,t).solution_value()) == 1: \n",
        "        print(\" ->\",c,end='')\n",
        "    print(\"\\n\")\n",
        "else:\n",
        "  print(\"Sem solução!\")"
      ],
      "execution_count": null,
      "outputs": [
        {
          "output_type": "stream",
          "name": "stdout",
          "text": [
            "Projeto: 0 \n",
            "\n",
            "Dia 0 -> Tempo 0 -> Sala: 0 \n",
            "\n",
            "Dia 0 -> Tempo 1 -> Sala: 0 \n",
            "\n",
            "Dia 0 -> Tempo 2 -> Sala: 0 \n",
            "\n",
            "Dia 0 -> Tempo 3 -> Sala: 0 \n",
            "\n",
            "Colaboradores:\n",
            " -> 0 -> 11 -> 12 -> 13 -> 14 -> 15 -> 16 -> 17 -> 18 -> 19\n",
            "\n",
            "Projeto: 1 \n",
            "\n",
            "Dia 0 -> Tempo 4 -> Sala: 0 \n",
            "\n",
            "Dia 0 -> Tempo 5 -> Sala: 0 \n",
            "\n",
            "Dia 1 -> Tempo 0 -> Sala: 0 \n",
            "\n",
            "Dia 1 -> Tempo 1 -> Sala: 0 \n",
            "\n",
            "Colaboradores:\n",
            " -> 1 -> 2 -> 3 -> 4 -> 5 -> 6 -> 7 -> 8 -> 9 -> 10\n",
            "\n"
          ]
        }
      ]
    }
  ]
}