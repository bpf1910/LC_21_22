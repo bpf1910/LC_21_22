{
  "nbformat": 4,
  "nbformat_minor": 0,
  "metadata": {
    "colab": {
      "provenance": []
    },
    "kernelspec": {
      "name": "python3",
      "display_name": "Python 3"
    },
    "language_info": {
      "name": "python"
    }
  },
  "cells": [
    {
      "cell_type": "markdown",
      "metadata": {
        "id": "wT8dNL3A3Qdx"
      },
      "source": [
        "##**Trabalho Prático 1**\n",
        "\n",
        "\n",
        "\n",
        "## Bárbara  Faria (A85774) , Bruna Araújo (A84408) e Tiago Lima (A85126)\n",
        "\n"
      ]
    },
    {
      "cell_type": "markdown",
      "metadata": {
        "id": "luM4reo43UdC"
      },
      "source": [
        "## 2.Sudoku\n",
        "\n",
        "Da definição do jogo “Sudoku” generalizado para a dimensão $N$; o problema tradicional corresponde ao caso $N=3$. O objetivo do Sudoku é preencher uma grelha de $\\,N^2\\times N^2\\,$ com inteiros positivos no intervalo $\\,1$ até $\\,N^2\\,$, satisfazendo as seguintes regras:\n",
        "     \n",
        "\n",
        "  1. Cada inteiro no intervalo $\\,1$ até $\\,N^2\\,$ ocorre  só uma vez em cada coluna, linha e secção $\\,N\\times N\\,$.\n",
        "\n",
        "  2. No início do jogo uma fração $\\,0\\leq \\alpha< 1\\,$$ das $$\\,N^4\\,$ casas da grelha são preenchidas de forma consistente com a regra anterior.\n",
        "\n",
        "Neste segundo exercício do Trabalho Prático 1 foi nos proposto:\n",
        "\n",
        "  1. Construir um programa para inicializar a grelha a partir dos parâmetros $N$ e $\\alpha$\n",
        "\n",
        "  2. Construir soluções do problema para  as combinações de parâmetros $N\\in\\{3,4,5,6\\}$  e $\\,\\alpha \\in \\{\\,0.0\\,,\\,0.2\\,,\\,0.4\\,,\\,0.6\\,\\}$ . Que conclusões pode tirar da complexidade computacional destas soluções.\n"
      ]
    },
    {
      "cell_type": "code",
      "metadata": {
        "colab": {
          "base_uri": "https://localhost:8080/"
        },
        "id": "wNbuShekFVL2",
        "outputId": "32eee549-157e-4ba0-d664-cebaf5f13666"
      },
      "source": [
        "!pip install ortools"
      ],
      "execution_count": null,
      "outputs": [
        {
          "output_type": "stream",
          "name": "stdout",
          "text": [
            "Requirement already satisfied: ortools in /usr/local/lib/python3.7/dist-packages (9.1.9490)\n",
            "Requirement already satisfied: absl-py>=0.13 in /usr/local/lib/python3.7/dist-packages (from ortools) (0.15.0)\n",
            "Requirement already satisfied: protobuf>=3.18.0 in /usr/local/lib/python3.7/dist-packages (from ortools) (3.19.0)\n",
            "Requirement already satisfied: six in /usr/local/lib/python3.7/dist-packages (from absl-py>=0.13->ortools) (1.15.0)\n"
          ]
        }
      ]
    },
    {
      "cell_type": "markdown",
      "metadata": {
        "id": "Vf7WHvThlWzu"
      },
      "source": [
        "###Análise do Problema\n",
        "\n",
        "Existem $l$ linhas, identificadas por um índice $l \\in [0..L\\!-\\!1]$ e $c$ colunas também identificadas por um índice $c \\in [0..C\\!-\\!1]$ que fazem parte um Tabuleiro de Sudoku.\n",
        "\n",
        "Vamos usar uma família $S_{l,c,n}$ de variáveis binárias  , com a seguinte semântica\n",
        "\n",
        "$$S_{l,c,n} == 1  \\quad \\mbox{se e só se} \\quad \\mbox{o inteiro  $n$ está localizado na linha $l$ e na coluna $c$ } $$\n"
      ]
    },
    {
      "cell_type": "code",
      "metadata": {
        "id": "brAiZsCC5Ny3"
      },
      "source": [
        "from ortools.linear_solver import pywraplp\n",
        "import random\n",
        "\n",
        "sudoku = pywraplp.Solver.CreateSolver('SCIP')\n",
        "\n",
        "N = 3\n",
        "T = N * N\n",
        "A = T * T\n",
        "ALPHA=0.4"
      ],
      "execution_count": null,
      "outputs": []
    },
    {
      "cell_type": "markdown",
      "metadata": {
        "id": "zwkkW9DygU6Z"
      },
      "source": [
        "Destaca-se ainda o seguinte:\n",
        "\n",
        "**Limitações:** (que impõem limites máximos à alocação)\n",
        "1. Cada inteiro ($0$..$T-1$) ocorre só uma vez em cada coluna.\n",
        "2. Cada inteiro ($0$..$T-1$) ocorre só uma vez em cada linha.\n",
        "3. Cada inteiro ($0$..$T-1$) ocorre só uma vez em cada seccão (grelha N*N)\n",
        "\n",
        "\n",
        "\n"
      ]
    },
    {
      "cell_type": "markdown",
      "metadata": {
        "id": "bUdI8No-jVfD"
      },
      "source": [
        "Declaração das matrizes de alocação:"
      ]
    },
    {
      "cell_type": "code",
      "metadata": {
        "id": "UWwBo_iD6DSe"
      },
      "source": [
        "s = {}\n",
        "for l in range(T):\n",
        "  s[l] = {}\n",
        "  for c in range(T):\n",
        "    s[l][c] = {}\n",
        "    for n in range(T):\n",
        "      s[l][c][n] = sudoku.BoolVar('s[%i][%i][%i]' % (l,c,n))\n",
        "\n",
        "def S(l,c,n):\n",
        "  return s[l][c][n]    "
      ],
      "execution_count": null,
      "outputs": []
    },
    {
      "cell_type": "markdown",
      "metadata": {
        "id": "d__sRW0zhmlN"
      },
      "source": [
        "Passamos agora á modelação das restrições.\n",
        "\n",
        "\n",
        "###Limitações:\n",
        "\n",
        "1. Cada inteiro (1..T) ocorre só uma vez em cada coluna.\n",
        "\n",
        "  Vamos percorrer todas as colunas e todos os inteiros e fazemos o somatório de todas as linhas e esse somatório tem de ser igual a 1, o que faz que em cada inteiro ocorra só uma vez por cada coluna.\n",
        "\n",
        "$$\\forall{c<T} \\cdot \\forall{n<T} \\cdot \\quad \\sum_{l<T} s_{l,c,n} == 1$$"
      ]
    },
    {
      "cell_type": "code",
      "metadata": {
        "id": "J7ef6VG06oje"
      },
      "source": [
        "\n",
        "for c in range(T):\n",
        "  for n in range(T):\n",
        "    sudoku.Add(sum([S(l,c,n) for l in range(T)]) == 1)"
      ],
      "execution_count": null,
      "outputs": []
    },
    {
      "cell_type": "markdown",
      "metadata": {
        "id": "okw43tUeiooL"
      },
      "source": [
        "  2. Cada inteiro ($1$..$T$) ocorre só uma vez em cada linha\n",
        "\n",
        "    Vamos percorrer todas as linhas e todos os inteiros e fazemos o somatório de todas as colunas e esse somatório tem de ser igual a 1, o que faz que em cada inteiro ocorra só uma vez por cada linha.\n",
        "\n",
        "$$\\forall{l<T} \\cdot \\forall{n<T} \\cdot \\quad \\sum_{c<T} s_{l,c,n} == 1$$\n"
      ]
    },
    {
      "cell_type": "code",
      "metadata": {
        "id": "gu7gSrnV_efz"
      },
      "source": [
        "for l in range(T):\n",
        "  for n in range(T):\n",
        "    sudoku.Add(sum([S(l,c,n) for c in range(T)]) == 1)"
      ],
      "execution_count": null,
      "outputs": []
    },
    {
      "cell_type": "markdown",
      "metadata": {
        "id": "lscQcWgAi7MR"
      },
      "source": [
        "  3. Cada inteiro ($0$..$T-1$) ocorre só uma vez em cada linha\n",
        "\n",
        "    Vamos percorrer as linhas e as colunas de uma seccão (subgrelha N*N) e se o somatório for igual a 1, então cada inteiro ocorre apenas uma vez na mesma. A progressão das variáveis p e q na fórmula seguinte é de N em N.\n",
        "\n",
        "$$\\forall{n<T} \\cdot \\forall{p<T-1} \\cdot \\forall{q<T-1} \\cdot \\quad \\sum_{p\\leq l<p+N, \\quad q\\leq c<q+N} s_{l,c,n} == 1$$"
      ]
    },
    {
      "cell_type": "code",
      "metadata": {
        "id": "ZAMM27mr_iky"
      },
      "source": [
        "for n in range(T):\n",
        "  for p in range(0, T-1, N):\n",
        "    for q in range(0, T-1, N):\n",
        "      sudoku.Add(sum([S(l,c,n) for l in range(p, p+N) for c in range(q, q+N)]) == 1)"
      ],
      "execution_count": null,
      "outputs": []
    },
    {
      "cell_type": "markdown",
      "metadata": {
        "id": "B6qw0HgXZ4vJ"
      },
      "source": [
        "###Exemplos"
      ]
    },
    {
      "cell_type": "markdown",
      "metadata": {
        "id": "MyaJURKgdrTE"
      },
      "source": [
        "1. Cria um tabuleiro completo de raíz."
      ]
    },
    {
      "cell_type": "code",
      "metadata": {
        "colab": {
          "base_uri": "https://localhost:8080/"
        },
        "id": "BEtcVM2FLYWQ",
        "outputId": "af2d30ed-734f-4982-b462-5fd958b254cd"
      },
      "source": [
        "status=sudoku.Solve()\n",
        "if status==pywraplp.Solver.OPTIMAL:\n",
        "  #imprime tabuleiro de sudoku\n",
        "  for c in range(T):\n",
        "    for l in range(T):\n",
        "      for n in range(T):\n",
        "        if round(S(l,c,n).solution_value())==1:\n",
        "          print(\" \",n,\" \",end='')\n",
        "    print(\"\\n\")\n",
        "else:\n",
        "  print(\"Sem solução!\")"
      ],
      "execution_count": null,
      "outputs": [
        {
          "output_type": "stream",
          "name": "stdout",
          "text": [
            "  0    1    3    7    2    4    8    5    6  \n",
            "\n",
            "  5    8    1    7    6    0    2    4    3  \n",
            "\n",
            "  2    4    6    3    0    8    1    5    7  \n",
            "\n",
            "  6    8    1    5    3    0    2    7    4  \n",
            "\n",
            "  3    0    2    4    7    1    6    5    8  \n",
            "\n",
            "  5    0    2    4    8    7    1    3    6  \n",
            "\n",
            "  7    0    6    5    4    8    1    3    2  \n",
            "\n",
            "  5    6    3    8    1    2    4    7    0  \n",
            "\n",
            "  2    4    1    0    3    8    5    7    6  \n",
            "\n"
          ]
        }
      ]
    },
    {
      "cell_type": "markdown",
      "metadata": {
        "id": "z9ESb7DQZ9gZ"
      },
      "source": [
        "2. Devolve um tabuleiro com uma percentagem (ALPHA) de posições preenchidas."
      ]
    },
    {
      "cell_type": "code",
      "metadata": {
        "colab": {
          "base_uri": "https://localhost:8080/"
        },
        "id": "0Qkf_h8SbG07",
        "outputId": "63d0f6ea-f81f-44e8-f68a-7d6b97f0c6c6"
      },
      "source": [
        "\n",
        "comb = []\n",
        "for c in range(T):\n",
        "  for l in range(T):\n",
        "    comb.append((l,c))\n",
        "\n",
        "rand = random.choices(comb, k = round(ALPHA*A))\n",
        "\n",
        "status=sudoku.Solve()\n",
        "if status==pywraplp.Solver.OPTIMAL:\n",
        "  #imprime tabuleiro de sudoku\n",
        "  for c in range(T):\n",
        "    for l in range(T):\n",
        "      for n in range(T):\n",
        "        if round(S(l,c,n).solution_value())==1:\n",
        "          if (l,c) in rand:\n",
        "            print(\" \",n,\" \",end='')\n",
        "          else:\n",
        "            print(\" \",\"_\",\" \",end='')\n",
        "    print(\"\\n\")\n",
        "else:\n",
        "  print(\"Sem solução!\")"
      ],
      "execution_count": null,
      "outputs": [
        {
          "output_type": "stream",
          "name": "stdout",
          "text": [
            "  0    1    _    _    _    _    _    5    _  \n",
            "\n",
            "  _    _    _    _    6    0    2    4    _  \n",
            "\n",
            "  _    _    _    3    _    8    1    5    7  \n",
            "\n",
            "  _    _    _    _    3    0    2    7    _  \n",
            "\n",
            "  _    _    2    4    7    1    6    5    8  \n",
            "\n",
            "  5    _    _    _    _    _    1    3    _  \n",
            "\n",
            "  _    0    _    _    _    _    1    3    _  \n",
            "\n",
            "  _    6    _    _    1    _    _    _    _  \n",
            "\n",
            "  _    _    1    _    _    _    _    _    _  \n",
            "\n"
          ]
        }
      ]
    }
  ]
}